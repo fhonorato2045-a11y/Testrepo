{
  "metadata": {
    "kernelspec": {
      "name": "python",
      "display_name": "Python (Pyodide)",
      "language": "python"
    },
    "language_info": {
      "codemirror_mode": {
        "name": "python",
        "version": 3
      },
      "file_extension": ".py",
      "mimetype": "text/x-python",
      "name": "python",
      "nbconvert_exporter": "python",
      "pygments_lexer": "ipython3",
      "version": "3.8"
    }
  },
  "nbformat_minor": 5,
  "nbformat": 4,
  "cells": [
    {
      "id": "5963076a-80b4-427a-9083-73449eab0ee1",
      "cell_type": "markdown",
      "source": "# Data Science Tools and Ecosystem",
      "metadata": {}
    },
    {
      "id": "d9ab1807-1358-47f4-ad42-ea5417d03ce7",
      "cell_type": "markdown",
      "source": "In this notebook, Data Science Tools and Ecosystem are summarized.",
      "metadata": {}
    },
    {
      "id": "ca200c18-1969-443a-8a9d-f6f1ac45fde3",
      "cell_type": "markdown",
      "source": "Some of the popular languages that Data Scientists use are:\n\n1. python\n2. R\n3. SQL",
      "metadata": {}
    },
    {
      "id": "3095833b-0332-408f-9f97-4eed35091bb4",
      "cell_type": "markdown",
      "source": "Objectives:\n1. create a juoyternotebook\n2. title\n3. intro\n4. list\n5. arithmetic ",
      "metadata": {}
    },
    {
      "id": "2500c8a8-0097-4433-b808-ee7316b61c99",
      "cell_type": "markdown",
      "source": "Some of the commonly used libraries used by Data Scientists include:\n1. Numpy\n2. Pandas\n3. Matplotlib\n4. Plotly",
      "metadata": {}
    },
    {
      "id": "b0c08199-f44b-4cc9-a243-30ffd90999d7",
      "cell_type": "markdown",
      "source": "| jupyter note book |\n|----------------|\n|  RStudio |\n| Apache Hadoop |",
      "metadata": {}
    },
    {
      "id": "e90c7b95-6f57-4a88-9772-278239ba8793",
      "cell_type": "markdown",
      "source": "Below are a few examples of evaluating arithmetic expressions in Python \n|result = 5 + 3 # result is 8 |\n|-----------------------------|\n|result = 10 - 4 # result is 6|\n|result = 2 * 6 # result is 12 result = 7 / 2 # result is|\n|3.5 result = 7 % 2 # result is 1|",
      "metadata": {}
    },
    {
      "id": "80e4136d-f6db-4fc7-9241-243b7bf9a7f6",
      "cell_type": "markdown",
      "source": "This a simple arithmetic expression to mutiply then add integers",
      "metadata": {}
    },
    {
      "id": "3a67d429-3eb6-4f51-a3d4-83383ef16b4f",
      "cell_type": "code",
      "source": "result=(3*4)+5\nprint(result)",
      "metadata": {
        "trusted": true
      },
      "outputs": [
        {
          "name": "stdout",
          "output_type": "stream",
          "text": "17\n"
        }
      ],
      "execution_count": 5
    },
    {
      "id": "16d4b0ff-41be-405a-add5-8422972aa137",
      "cell_type": "markdown",
      "source": "his will convert 200 minutes to hours by diving by 60",
      "metadata": {}
    },
    {
      "id": "90c0e4a1-d69a-4c34-9e6d-785ae077031e",
      "cell_type": "code",
      "source": "hours = 200 // 60\nrestminutes = 200 % 60\nprint( f\"{hours} hours and {restminutes} minutes\")",
      "metadata": {
        "trusted": true
      },
      "outputs": [
        {
          "name": "stdout",
          "output_type": "stream",
          "text": "3 hours and 20 minutes\n"
        }
      ],
      "execution_count": 6
    },
    {
      "id": "36fdac14-d80c-426e-a9ec-933293ca2f79",
      "cell_type": "markdown",
      "source": "## Author:\n## Francisco",
      "metadata": {}
    },
    {
      "id": "5b203955-0370-445a-a2a6-d178349566c0",
      "cell_type": "code",
      "source": "",
      "metadata": {
        "trusted": true
      },
      "outputs": [],
      "execution_count": null
    }
  ]
}